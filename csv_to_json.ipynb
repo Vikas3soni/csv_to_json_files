{
 "cells": [
  {
   "cell_type": "code",
   "execution_count": 83,
   "metadata": {},
   "outputs": [
    {
     "data": {
      "text/html": [
       "<div>\n",
       "<style scoped>\n",
       "    .dataframe tbody tr th:only-of-type {\n",
       "        vertical-align: middle;\n",
       "    }\n",
       "\n",
       "    .dataframe tbody tr th {\n",
       "        vertical-align: top;\n",
       "    }\n",
       "\n",
       "    .dataframe thead th {\n",
       "        text-align: right;\n",
       "    }\n",
       "</style>\n",
       "<table border=\"1\" class=\"dataframe\">\n",
       "  <thead>\n",
       "    <tr style=\"text-align: right;\">\n",
       "      <th></th>\n",
       "      <th>Person Id</th>\n",
       "      <th>Floor Access DateTime</th>\n",
       "      <th>Floor Level</th>\n",
       "      <th>Building</th>\n",
       "    </tr>\n",
       "  </thead>\n",
       "  <tbody>\n",
       "    <tr>\n",
       "      <th>0</th>\n",
       "      <td>1</td>\n",
       "      <td>10/1/15 8:02</td>\n",
       "      <td>6</td>\n",
       "      <td>B</td>\n",
       "    </tr>\n",
       "    <tr>\n",
       "      <th>1</th>\n",
       "      <td>2</td>\n",
       "      <td>10/1/15 8:02</td>\n",
       "      <td>5</td>\n",
       "      <td>C</td>\n",
       "    </tr>\n",
       "    <tr>\n",
       "      <th>2</th>\n",
       "      <td>3</td>\n",
       "      <td>10/1/15 8:03</td>\n",
       "      <td>1</td>\n",
       "      <td>C</td>\n",
       "    </tr>\n",
       "    <tr>\n",
       "      <th>3</th>\n",
       "      <td>4</td>\n",
       "      <td>10/1/15 8:04</td>\n",
       "      <td>9</td>\n",
       "      <td>A</td>\n",
       "    </tr>\n",
       "    <tr>\n",
       "      <th>4</th>\n",
       "      <td>5</td>\n",
       "      <td>10/1/15 8:04</td>\n",
       "      <td>6</td>\n",
       "      <td>B</td>\n",
       "    </tr>\n",
       "  </tbody>\n",
       "</table>\n",
       "</div>"
      ],
      "text/plain": [
       "   Person Id Floor Access DateTime  Floor Level Building\n",
       "0          1          10/1/15 8:02            6        B\n",
       "1          2          10/1/15 8:02            5        C\n",
       "2          3          10/1/15 8:03            1        C\n",
       "3          4          10/1/15 8:04            9        A\n",
       "4          5          10/1/15 8:04            6        B"
      ]
     },
     "execution_count": 83,
     "metadata": {},
     "output_type": "execute_result"
    }
   ],
   "source": [
    "import pandas as pd\n",
    "table = pd.read_csv(\"C:/Users\\Vikas\\Downloads\\data.csv\")\n",
    "table.head()"
   ]
  },
  {
   "cell_type": "code",
   "execution_count": 84,
   "metadata": {},
   "outputs": [],
   "source": [
    "# changig datatype for person_id\n",
    "table['Person Id']= table['Person Id'].astype(str)"
   ]
  },
  {
   "cell_type": "code",
   "execution_count": 85,
   "metadata": {},
   "outputs": [],
   "source": [
    "def json_converter(data):\n",
    "    dict = {\n",
    "        \"person_id\": data['Person Id'],                     \n",
    "        \"datetime\": data['Floor Access DateTime'],\n",
    "        \"floor_level\": data['Floor Level'],\n",
    "        \"building\":data['Building']\n",
    "       }\n",
    "    return dict"
   ]
  },
  {
   "cell_type": "code",
   "execution_count": 86,
   "metadata": {},
   "outputs": [],
   "source": [
    "dict={}  \n",
    "dict=table.apply(lambda x: json_converter(x),axis= 1)"
   ]
  },
  {
   "cell_type": "code",
   "execution_count": 90,
   "metadata": {},
   "outputs": [
    {
     "data": {
      "text/plain": [
       "0    {'person_id': '1', 'datetime': '10/1/15 8:02',...\n",
       "1    {'person_id': '2', 'datetime': '10/1/15 8:02',...\n",
       "2    {'person_id': '3', 'datetime': '10/1/15 8:03',...\n",
       "3    {'person_id': '4', 'datetime': '10/1/15 8:04',...\n",
       "4    {'person_id': '5', 'datetime': '10/1/15 8:04',...\n",
       "5    {'person_id': '6', 'datetime': '10/1/15 8:07',...\n",
       "6    {'person_id': '7', 'datetime': '10/1/15 8:07',...\n",
       "7    {'person_id': '8', 'datetime': '10/1/15 8:07',...\n",
       "8    {'person_id': '9', 'datetime': '10/1/15 8:07',...\n",
       "9    {'person_id': '10', 'datetime': '10/1/15 8:14'...\n",
       "dtype: object"
      ]
     },
     "execution_count": 90,
     "metadata": {},
     "output_type": "execute_result"
    }
   ],
   "source": [
    "dict[0:10]"
   ]
  },
  {
   "cell_type": "code",
   "execution_count": 91,
   "metadata": {},
   "outputs": [
    {
     "data": {
      "text/plain": [
       "{'person_id': '2',\n",
       " 'datetime': '10/1/15 8:02',\n",
       " 'floor_level': 5,\n",
       " 'building': 'C'}"
      ]
     },
     "execution_count": 91,
     "metadata": {},
     "output_type": "execute_result"
    }
   ],
   "source": [
    "dict[1]"
   ]
  },
  {
   "cell_type": "code",
   "execution_count": null,
   "metadata": {},
   "outputs": [],
   "source": []
  }
 ],
 "metadata": {
  "kernelspec": {
   "display_name": "Python 3",
   "language": "python",
   "name": "python3"
  },
  "language_info": {
   "codemirror_mode": {
    "name": "ipython",
    "version": 3
   },
   "file_extension": ".py",
   "mimetype": "text/x-python",
   "name": "python",
   "nbconvert_exporter": "python",
   "pygments_lexer": "ipython3",
   "version": "3.7.3"
  }
 },
 "nbformat": 4,
 "nbformat_minor": 2
}
